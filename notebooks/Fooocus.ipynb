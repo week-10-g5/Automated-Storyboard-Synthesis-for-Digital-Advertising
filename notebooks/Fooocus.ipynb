{
  "cells": [
    {
      "cell_type": "code",
      "execution_count": 2,
      "metadata": {
        "colab": {
          "base_uri": "https://localhost:8080/"
        },
        "id": "bgBHw4-maRHa",
        "outputId": "5fbdee71-dbc5-4b40-ad35-f6f4fa29e7a1"
      },
      "outputs": [
        {
          "name": "stdout",
          "output_type": "stream",
          "text": [
            "Requirement already satisfied: pygit2==1.12.2 in c:\\users\\abel\\anaconda3\\lib\\site-packages (1.12.2)\n",
            "Requirement already satisfied: cffi>=1.9.1 in c:\\users\\abel\\anaconda3\\lib\\site-packages (from pygit2==1.12.2) (1.15.1)\n",
            "Requirement already satisfied: pycparser in c:\\users\\abel\\anaconda3\\lib\\site-packages (from cffi>=1.9.1->pygit2==1.12.2) (2.21)\n",
            "[WinError 2] The system cannot find the file specified: '/content'\n",
            "c:\\Users\\Abel\\Documents\\10 Academy\\week-10\\Automated-Storyboard-Synthesis-for-Digital-Advertising\\notebooks\n",
            "[WinError 3] The system cannot find the path specified: '/content/Fooocus'\n",
            "c:\\Users\\Abel\\Documents\\10 Academy\\week-10\\Automated-Storyboard-Synthesis-for-Digital-Advertising\\notebooks\n"
          ]
        },
        {
          "name": "stderr",
          "output_type": "stream",
          "text": [
            "Cloning into 'Fooocus'...\n"
          ]
        }
      ],
      "source": [
        "!pip install pygit2==1.12.2\n",
        "%cd /content\n",
        "!git clone https://github.com/lllyasviel/Fooocus.git\n",
        "%cd /content/Fooocus"
      ]
    },
    {
      "cell_type": "code",
      "execution_count": 5,
      "metadata": {
        "colab": {
          "base_uri": "https://localhost:8080/"
        },
        "id": "59o5iyVrZ4rL",
        "outputId": "09742700-9b0b-4250-f23f-03a37d73de74"
      },
      "outputs": [
        {
          "name": "stdout",
          "output_type": "stream",
          "text": [
            "^C\n"
          ]
        }
      ],
      "source": [
        "!wget https://civitai.com/api/download/models/190908 -O ./Fooocus/models/checkpoints/thinkdiffusionxl_v10.safetensors"
      ]
    },
    {
      "cell_type": "code",
      "execution_count": 4,
      "metadata": {
        "colab": {
          "background_save": true,
          "base_uri": "https://localhost:8080/"
        },
        "id": "YhBTozddHY-5",
        "outputId": "9d3649f8-65e1-45bc-e605-bb6c596adf16"
      },
      "outputs": [
        {
          "name": "stderr",
          "output_type": "stream",
          "text": [
            "'cp' is not recognized as an internal or external command,\n",
            "operable program or batch file.\n",
            "python: can't open file 'c:\\\\Users\\\\Abel\\\\Documents\\\\10 Academy\\\\week-10\\\\Automated-Storyboard-Synthesis-for-Digital-Advertising\\\\notebooks\\\\entry_with_update.py': [Errno 2] No such file or directory\n"
          ]
        }
      ],
      "source": [
        "!cp colab_fix.txt user_path_config.txt\n",
        "!python entry_with_update.py --preset realistic --share"
      ]
    }
  ],
  "metadata": {
    "accelerator": "GPU",
    "colab": {
      "provenance": []
    },
    "kernelspec": {
      "display_name": "Python 3",
      "name": "python3"
    },
    "language_info": {
      "codemirror_mode": {
        "name": "ipython",
        "version": 3
      },
      "file_extension": ".py",
      "mimetype": "text/x-python",
      "name": "python",
      "nbconvert_exporter": "python",
      "pygments_lexer": "ipython3",
      "version": "3.11.0"
    }
  },
  "nbformat": 4,
  "nbformat_minor": 0
}
