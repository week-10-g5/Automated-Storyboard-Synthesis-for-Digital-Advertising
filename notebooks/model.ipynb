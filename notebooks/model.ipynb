{
 "cells": [
  {
   "cell_type": "code",
   "execution_count": 2,
   "metadata": {},
   "outputs": [
    {
     "name": "stdout",
     "output_type": "stream",
     "text": [
      "Sat Feb 17 16:38:09 2024       \n",
      "+---------------------------------------------------------------------------------------+\n",
      "| NVIDIA-SMI 536.99                 Driver Version: 536.99       CUDA Version: 12.2     |\n",
      "|-----------------------------------------+----------------------+----------------------+\n",
      "| GPU  Name                     TCC/WDDM  | Bus-Id        Disp.A | Volatile Uncorr. ECC |\n",
      "| Fan  Temp   Perf          Pwr:Usage/Cap |         Memory-Usage | GPU-Util  Compute M. |\n",
      "|                                         |                      |               MIG M. |\n",
      "|=========================================+======================+======================|\n",
      "|   0  NVIDIA GeForce GTX 1050      WDDM  | 00000000:01:00.0  On |                  N/A |\n",
      "| N/A   61C    P8              N/A / ERR! |   1462MiB /  4096MiB |     26%      Default |\n",
      "|                                         |                      |                  N/A |\n",
      "+-----------------------------------------+----------------------+----------------------+\n",
      "                                                                                         \n",
      "+---------------------------------------------------------------------------------------+\n",
      "| Processes:                                                                            |\n",
      "|  GPU   GI   CI        PID   Type   Process name                            GPU Memory |\n",
      "|        ID   ID                                                             Usage      |\n",
      "|=======================================================================================|\n",
      "|    0   N/A  N/A      2976    C+G   ...\\Local\\Figma\\app-116.15.4\\Figma.exe    N/A      |\n",
      "|    0   N/A  N/A     13656    C+G   ...5n1h2txyewy\\ShellExperienceHost.exe    N/A      |\n",
      "|    0   N/A  N/A     14000    C+G   ...\\Local\\slack\\app-4.36.140\\slack.exe    N/A      |\n",
      "|    0   N/A  N/A     14808    C+G   C:\\Windows\\explorer.exe                   N/A      |\n",
      "|    0   N/A  N/A     17796    C+G   ...2txyewy\\StartMenuExperienceHost.exe    N/A      |\n",
      "|    0   N/A  N/A     17812    C+G   ...nt.CBS_cw5n1h2txyewy\\SearchHost.exe    N/A      |\n",
      "|    0   N/A  N/A     18824    C+G   ...CBS_cw5n1h2txyewy\\TextInputHost.exe    N/A      |\n",
      "|    0   N/A  N/A     19048    C+G   ...Programs\\Microsoft VS Code\\Code.exe    N/A      |\n",
      "|    0   N/A  N/A     20404    C+G   ...9.0_x64__t4vj0pshhgkwm\\Telegram.exe    N/A      |\n",
      "|    0   N/A  N/A     21476    C+G   ...oogle\\Chrome\\Application\\chrome.exe    N/A      |\n",
      "|    0   N/A  N/A     21576    C+G   ...siveControlPanel\\SystemSettings.exe    N/A      |\n",
      "+---------------------------------------------------------------------------------------+\n"
     ]
    }
   ],
   "source": [
    "!nvidia-smi"
   ]
  },
  {
   "cell_type": "code",
   "execution_count": 16,
   "metadata": {},
   "outputs": [
    {
     "name": "stdout",
     "output_type": "stream",
     "text": [
      "Collecting xmltodict\n",
      "  Downloading xmltodict-0.13.0-py2.py3-none-any.whl (10.0 kB)"
     ]
    },
    {
     "name": "stderr",
     "output_type": "stream",
     "text": [
      "\n",
      "[notice] A new release of pip is available: 23.0.1 -> 24.0\n"
     ]
    },
    {
     "name": "stdout",
     "output_type": "stream",
     "text": [
      "\n",
      "Installing collected packages: xmltodict"
     ]
    },
    {
     "name": "stderr",
     "output_type": "stream",
     "text": [
      "[notice] To update, run: python.exe -m pip install --upgrade pip\n"
     ]
    },
    {
     "name": "stdout",
     "output_type": "stream",
     "text": [
      "\n",
      "Successfully installed xmltodict-0.13.0\n"
     ]
    }
   ],
   "source": [
    "!pip install xmltodict"
   ]
  },
  {
   "cell_type": "code",
   "execution_count": 1,
   "metadata": {},
   "outputs": [],
   "source": [
    "import os\n",
    "import numpy as np\n",
    "import cv2\n",
    "import matplotlib.pyplot as plt\n",
    "import xmltodict\n",
    "from tqdm import tqdm\n",
    "import torch"
   ]
  },
  {
   "cell_type": "code",
   "execution_count": null,
   "metadata": {},
   "outputs": [],
   "source": [
    "!pip install wandb"
   ]
  },
  {
   "cell_type": "code",
   "execution_count": null,
   "metadata": {},
   "outputs": [],
   "source": [
    "# import requests\n",
    "# import zipfile\n",
    "# import os\n",
    "\n",
    "\n",
    "# # Download the file\n",
    "# url = \"https://universe.roboflow.com/ds/W8grf6DmCF?key=QkQVA4pg66\"\n",
    "# response = requests.get(url, stream=True)\n",
    "# with open(\"roboflow.zip\", \"wb\") as file:\n",
    "#     for chunk in response.iter_content(chunk_size=8192):\n",
    "#         file.write(chunk)\n",
    "\n",
    "# # Unzip the file\n",
    "# with zipfile.ZipFile(\"roboflow.zip\", 'r') as zip_ref:\n",
    "#     zip_ref.extractall()\n",
    "\n",
    "# # Remove the zip file\n",
    "# os.remove(\"roboflow.zip\")"
   ]
  },
  {
   "cell_type": "code",
   "execution_count": 3,
   "metadata": {},
   "outputs": [
    {
     "name": "stdout",
     "output_type": "stream",
     "text": [
      "c:\\Users\\Abel\\Documents\\10 Academy\\week-10\\Automated-Storyboard-Synthesis-for-Digital-Advertising\\notebooks\\yolov7\n"
     ]
    }
   ],
   "source": [
    "%cd yolov7"
   ]
  },
  {
   "cell_type": "code",
   "execution_count": null,
   "metadata": {},
   "outputs": [],
   "source": [
    "# !pip install -q wandb -U\n",
    "\n",
    "import wandb, os\n",
    "wandb.login()\n",
    "# start a new wandb run to track this script\n",
    "wandb.init(\n",
    "    # set the wandb project where this run will be logged\n",
    "    project=\"Yolo-Ad's-Training\",\n",
    "    \n",
    "    # track hyperparameters and run metadata\n",
    "    config={\n",
    "    \"learning_rate\": 0.02,\n",
    "    \"architecture\": \"CNN\",\n",
    "    \"dataset\": \"CIFAR-100\",\n",
    "    \"epochs\": 10,\n",
    "    }\n",
    ")"
   ]
  },
  {
   "cell_type": "code",
   "execution_count": 4,
   "metadata": {},
   "outputs": [
    {
     "name": "stderr",
     "output_type": "stream",
     "text": [
      "YOLOR  2024-2-16 torch 2.2.0+cpu CPU\n",
      "\n",
      "Namespace(adam=False, artifact_alias='latest', batch_size=5, bbox_interval=-1, bucket='', cache_images=False, cfg='cfg/training/yolov7.yaml', data='data.yml', device='', entity=None, epochs=50, evolve=False, exist_ok=False, freeze=[0], global_rank=-1, hyp='data/hyp.scratch.p5.yaml', image_weights=False, img_size=[640, 640], label_smoothing=0.0, linear_lr=False, local_rank=-1, multi_scale=False, name='exp', noautoanchor=False, nosave=False, notest=False, project='runs/train', quad=False, rect=False, resume=False, save_dir='runs\\\\train\\\\exp6', save_period=-1, single_cls=False, sync_bn=False, total_batch_size=5, upload_dataset=False, v5_metric=False, weights=\"''\", workers=8, world_size=1)\n",
      "\u001b[34m\u001b[1mtensorboard: \u001b[0mStart with 'tensorboard --logdir runs/train', view at http://localhost:6006/\n",
      "\u001b[34m\u001b[1mhyperparameters: \u001b[0mlr0=0.01, lrf=0.1, momentum=0.937, weight_decay=0.0005, warmup_epochs=3.0, warmup_momentum=0.8, warmup_bias_lr=0.1, box=0.05, cls=0.3, cls_pw=1.0, obj=0.7, obj_pw=1.0, iou_t=0.2, anchor_t=4.0, fl_gamma=0.0, hsv_h=0.015, hsv_s=0.7, hsv_v=0.4, degrees=0.0, translate=0.2, scale=0.9, shear=0.0, perspective=0.0, flipud=0.0, fliplr=0.5, mosaic=1.0, mixup=0.15, copy_paste=0.0, paste_in=0.15, loss_ota=1\n",
      "wandb: Currently logged in as: itsabel77. Use `wandb login --relogin` to force relogin\n",
      "wandb: - Waiting for wandb.init()...\n",
      "wandb: \\ Waiting for wandb.init()...\n",
      "wandb: Tracking run with wandb version 0.16.3\n",
      "wandb: Run data is saved locally in c:\\Users\\Abel\\Documents\\10 Academy\\week-10\\Automated-Storyboard-Synthesis-for-Digital-Advertising\\notebooks\\yolov7\\wandb\\run-20240217_163835-094md04u\n",
      "wandb: Run `wandb offline` to turn off syncing.\n",
      "wandb: Syncing run exp6\n",
      "wandb:  View project at https://wandb.ai/itsabel77/YOLOR\n",
      "wandb:  View run at https://wandb.ai/itsabel77/YOLOR/runs/094md04u\n",
      "Traceback (most recent call last):\n",
      "  File \"train.py\", line 616, in <module>\n",
      "    train(hyp, opt, device, tb_writer)\n",
      "  File \"train.py\", line 78, in train\n",
      "    nc = 1 if opt.single_cls else int(data_dict['nc'])  # number of classes\n",
      "KeyError: 'nc'\n",
      "wandb: - 0.000 MB of 0.002 MB uploaded\n",
      "wandb: \\ 0.002 MB of 0.002 MB uploaded\n",
      "wandb: | 0.002 MB of 0.002 MB uploaded\n",
      "wandb: / 0.002 MB of 0.002 MB uploaded\n",
      "wandb: - 0.002 MB of 0.002 MB uploaded\n",
      "wandb: \\ 0.002 MB of 0.002 MB uploaded\n",
      "wandb: | 0.002 MB of 0.002 MB uploaded\n",
      "wandb: / 0.002 MB of 0.002 MB uploaded\n",
      "wandb: - 0.002 MB of 0.002 MB uploaded\n",
      "wandb: \\ 0.027 MB of 0.034 MB uploaded\n",
      "wandb: | 0.032 MB of 0.034 MB uploaded\n",
      "wandb: / 0.032 MB of 0.034 MB uploaded\n",
      "wandb: - 0.034 MB of 0.034 MB uploaded\n",
      "wandb: \\ 0.034 MB of 0.034 MB uploaded\n",
      "wandb: | 0.034 MB of 0.034 MB uploaded\n",
      "wandb:  View run exp6 at: https://wandb.ai/itsabel77/YOLOR/runs/094md04u\n",
      "wandb:  View job at https://wandb.ai/itsabel77/YOLOR/jobs/QXJ0aWZhY3RDb2xsZWN0aW9uOjE0MDQ5Njg4Nw==/version_details/v0\n",
      "wandb: Synced 5 W&B file(s), 0 media file(s), 2 artifact file(s) and 0 other file(s)\n",
      "wandb: Find logs at: .\\wandb\\run-20240217_163835-094md04u\\logs\n"
     ]
    }
   ],
   "source": [
    "!python train.py --data data.yml --epochs 50 --weights '' --cfg cfg/training/yolov7.yaml  --batch-size 5"
   ]
  },
  {
   "cell_type": "code",
   "execution_count": 7,
   "metadata": {},
   "outputs": [
    {
     "name": "stdout",
     "output_type": "stream",
     "text": [
      "LICENSE.md\n",
      "README.md\n",
      "__pycache__\n",
      "cfg\n",
      "data\n",
      "data.yml\n",
      "deploy\n",
      "detect.py\n",
      "export.py\n",
      "figure\n",
      "hubconf.py\n",
      "inference\n",
      "models\n",
      "object.csv\n",
      "output.csv\n",
      "paper\n",
      "requirements.txt\n",
      "runs\n",
      "scripts\n",
      "test.py\n",
      "text.csv\n",
      "tools\n",
      "traced_model.pt\n",
      "train.py\n",
      "train_aux.py\n",
      "trial\n",
      "utils\n",
      "wandb\n",
      "yolov7-tiny.pt\n",
      "yolov7.pt\n"
     ]
    }
   ],
   "source": [
    "!ls"
   ]
  },
  {
   "cell_type": "code",
   "execution_count": 8,
   "metadata": {},
   "outputs": [
    {
     "name": "stderr",
     "output_type": "stream",
     "text": [
      "Traceback (most recent call last):\n",
      "  File \"train.py\", line 595, in <module>\n",
      "    device = select_device(opt.device, batch_size=opt.batch_size)\n",
      "  File \"c:\\Users\\Abel\\Documents\\10 Academy\\week-10\\Automated-Storyboard-Synthesis-for-Digital-Advertising\\notebooks\\yolov7\\utils\\torch_utils.py\", line 71, in select_device\n",
      "    assert torch.cuda.is_available(), f'CUDA unavailable, invalid device {device} requested'  # check availability\n",
      "AssertionError: CUDA unavailable, invalid device 0 requested\n"
     ]
    }
   ],
   "source": [
    "!python train.py --workers 8 --device 0 --batch-size 16 --data data.yml  --cfg cfg/training/yolov7.yaml --weights '' --name yolov7 --hyp data/hyp.scratch.p5.yaml --epochs 100"
   ]
  }
 ],
 "metadata": {
  "kernelspec": {
   "display_name": ".venv",
   "language": "python",
   "name": "python3"
  },
  "language_info": {
   "codemirror_mode": {
    "name": "ipython",
    "version": 3
   },
   "file_extension": ".py",
   "mimetype": "text/x-python",
   "name": "python",
   "nbconvert_exporter": "python",
   "pygments_lexer": "ipython3",
   "version": "3.8.17"
  }
 },
 "nbformat": 4,
 "nbformat_minor": 2
}
